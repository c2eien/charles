{
 "cells": [
  {
   "cell_type": "code",
   "execution_count": null,
   "metadata": {
    "collapsed": true
   },
   "outputs": [],
   "source": []
  },
  {
   "cell_type": "code",
   "execution_count": 1,
   "metadata": {
    "collapsed": true
   },
   "outputs": [],
   "source": [
    "# first install to machine using \"pip install matpliblib\" \n",
    "#or \"conda install matplotlib\"\n",
    "#see matploblib website for more info\n",
    "\n",
    "#then import to environment:\n",
    "import matplotlib.pyplot as plt"
   ]
  },
  {
   "cell_type": "code",
   "execution_count": 2,
   "metadata": {
    "collapsed": true
   },
   "outputs": [],
   "source": [
    "%matplotlib inline\n",
    "#for jupyter notebook, allows plots to show in notebook\n",
    "#(if not using jupyter notebook, use \"plt.show()\" to return/print plot)"
   ]
  },
  {
   "cell_type": "code",
   "execution_count": 3,
   "metadata": {
    "collapsed": false
   },
   "outputs": [
    {
     "data": {
      "text/plain": [
       "array([ 0. ,  0.5,  1. ,  1.5,  2. ,  2.5,  3. ,  3.5,  4. ,  4.5,  5. ])"
      ]
     },
     "execution_count": 3,
     "metadata": {},
     "output_type": "execute_result"
    }
   ],
   "source": [
    "import numpy as np\n",
    "x = np.linspace(0, 5, 11)\n",
    "y = x **2\n",
    "x"
   ]
  },
  {
   "cell_type": "code",
   "execution_count": 4,
   "metadata": {
    "collapsed": false
   },
   "outputs": [
    {
     "data": {
      "text/plain": [
       "array([  0.  ,   0.25,   1.  ,   2.25,   4.  ,   6.25,   9.  ,  12.25,\n",
       "        16.  ,  20.25,  25.  ])"
      ]
     },
     "execution_count": 4,
     "metadata": {},
     "output_type": "execute_result"
    }
   ],
   "source": [
    "y"
   ]
  },
  {
   "cell_type": "code",
   "execution_count": 5,
   "metadata": {
    "collapsed": true
   },
   "outputs": [],
   "source": [
    "# two ways to create plots: FUNCTIONAL or OBJECT-ORIENTED\n",
    "#(OBJECT-ORIENTED is better?)\n"
   ]
  },
  {
   "cell_type": "markdown",
   "metadata": {},
   "source": [
    "## FUNCTIONAL "
   ]
  },
  {
   "cell_type": "code",
   "execution_count": 10,
   "metadata": {
    "collapsed": false
   },
   "outputs": [
    {
     "data": {
      "text/plain": [
       "<matplotlib.text.Text at 0x1327de99908>"
      ]
     },
     "execution_count": 10,
     "metadata": {},
     "output_type": "execute_result"
    },
    {
     "data": {
      "image/png": "[encoded data removed]",
      "text/plain": [
       "<matplotlib.figure.Figure at 0x1327de672b0>"
      ]
     },
     "metadata": {},
     "output_type": "display_data"
    }
   ],
   "source": [
    "plt.plot(x,y)\n",
    "#use plt.show() to return/print; \n",
    "#for jupyter notebook, once \"%matplotlib inline\" is specified, \n",
    "#plt.show is not necessary\n",
    "\n",
    "plt.xlabel('X label')\n",
    "plt.ylabel('Y Label')\n",
    "plt.title('TITLE')"
   ]
  },
  {
   "cell_type": "code",
   "execution_count": 12,
   "metadata": {
    "collapsed": false
   },
   "outputs": [
    {
     "data": {
      "text/plain": [
       "[<matplotlib.lines.Line2D at 0x1327e0579b0>]"
      ]
     },
     "execution_count": 12,
     "metadata": {},
     "output_type": "execute_result"
    },
    {
     "data": {
      "image/png": "[encoded data removed]",
      "text/plain": [
       "<matplotlib.figure.Figure at 0x1327dfd2d30>"
      ]
     },
     "metadata": {},
     "output_type": "display_data"
    }
   ],
   "source": [
    "#to create MULTIPLE PLOTS on SAME CANVAS\n",
    "\n",
    "plt.subplot(1, 2, 1)\n",
    "# (num of rows, num of columns, plot column)\n",
    "plt.plot(x,y, 'r')\n",
    "plt.subplot(1,2,2)\n",
    "plt.plot(y,x,'b')"
   ]
  },
  {
   "cell_type": "markdown",
   "metadata": {},
   "source": [
    "## OBJECT-ORIENTED API METHOD\n",
    "Instantiate the figure objects and then call methods or attributes off that object  (axes, plot, title, etc)"
   ]
  },
  {
   "cell_type": "code",
   "execution_count": 20,
   "metadata": {
    "collapsed": false
   },
   "outputs": [
    {
     "data": {
      "text/plain": [
       "<matplotlib.text.Text at 0x1327e288fd0>"
      ]
     },
     "execution_count": 20,
     "metadata": {},
     "output_type": "execute_result"
    },
    {
     "data": {
      "image/png": "[encoded data removed]",
      "text/plain": [
       "<matplotlib.figure.Figure at 0x1327e24aa58>"
      ]
     },
     "metadata": {},
     "output_type": "display_data"
    }
   ],
   "source": [
    "fig = plt.figure()  # create a figure object  (like a canvas)\n",
    "\n",
    "axes = fig.add_axes([0.1,0.1, 0.8, 0.8])  #create axes object for figure\n",
    "#([left, bottom, width, height])\n",
    "# The left and bottom do not refer to the rectangle's dimensions. \n",
    "#They refer to the 'canvas'. \n",
    "#When you create just one axes object (just one rectangle) \n",
    "#it won't matter what the left and bottom parameters are.\n",
    "\n",
    "axes.plot(x,y)\n",
    "axes.set_xlabel('X Label')\n",
    "axes.set_ylabel('Y Label')\n",
    "axes.set_title('SET TITLE')"
   ]
  },
  {
   "cell_type": "code",
   "execution_count": 39,
   "metadata": {
    "collapsed": false
   },
   "outputs": [
    {
     "data": {
      "text/plain": [
       "<matplotlib.text.Text at 0x1327f75fa20>"
      ]
     },
     "execution_count": 39,
     "metadata": {},
     "output_type": "execute_result"
    },
    {
     "data": {
      "image/png": "[encoded data removed]",
      "text/plain": [
       "<matplotlib.figure.Figure at 0x1327f5914a8>"
      ]
     },
     "metadata": {},
     "output_type": "display_data"
    }
   ],
   "source": [
    "fig = plt.figure()\n",
    "\n",
    "axes1 = fig.add_axes([0.1,0.1,0.9,0.9])\n",
    "axes2 = fig.add_axes([0.2, 0.5, 0.4, 0.4])\n",
    "\n",
    "# The left and bottom do not refer to the rectangle's dimensions. \n",
    "#They refer to the 'canvas'. \n",
    "#When you create just one axes object (just one rectangle) \n",
    "#it won't matter what the left and bottom parameters are.\n",
    "\n",
    "axes1.plot(x,y)\n",
    "axes1.set_title('LARGER PLOT')\n",
    "\n",
    "axes2.plot(y,x)\n",
    "axes2.set_title('SMALLER PLOT')\n"
   ]
  },
  {
   "cell_type": "code",
   "execution_count": null,
   "metadata": {
    "collapsed": true
   },
   "outputs": [],
   "source": []
  }
 ],
 "metadata": {
  "kernelspec": {
   "display_name": "Python 3",
   "language": "python",
   "name": "python3"
  },
  "language_info": {
   "codemirror_mode": {
    "name": "ipython",
    "version": 3
   },
   "file_extension": ".py",
   "mimetype": "text/x-python",
   "name": "python",
   "nbconvert_exporter": "python",
   "pygments_lexer": "ipython3",
   "version": "3.6.0"
  }
 },
 "nbformat": 4,
 "nbformat_minor": 2
}
