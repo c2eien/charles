{
 "cells": [
  {
   "cell_type": "markdown",
   "metadata": {},
   "source": [
    "http://adventofcode.com/2017/day/2\n",
    "\n",
    "--- Day 2: Corruption Checksum ---\n",
    "As you walk through the door, a glowing humanoid shape yells in your direction. \"You there! Your state appears to be idle. Come help us repair the corruption in this spreadsheet - if we take another millisecond, we'll have to display an hourglass cursor!\"\n",
    "\n",
    "The spreadsheet consists of rows of apparently-random numbers. To make sure the recovery process is on the right track, they need you to calculate the spreadsheet's checksum. For each row, determine the difference between the largest value and the smallest value; the checksum is the sum of all of these differences.\n",
    "\n",
    "For example, given the following spreadsheet:\n",
    "\n",
    "5 1 9 5\n",
    "7 5 3\n",
    "2 4 6 8\n",
    "The first row's largest and smallest values are 9 and 1, and their difference is 8.\n",
    "The second row's largest and smallest values are 7 and 3, and their difference is 4.\n",
    "The third row's difference is 6.\n",
    "In this example, the spreadsheet's checksum would be 8 + 4 + 6 = 18.\n",
    "\n",
    "What is the checksum for the spreadsheet in your puzzle input?"
   ]
  },
  {
   "cell_type": "code",
   "execution_count": 21,
   "metadata": {
    "collapsed": false
   },
   "outputs": [
    {
     "data": {
      "text/plain": [
       "array([[ 1208.,   412.,   743.,    57.,  1097.,    53.,    71.,  1029.,\n",
       "          719.,   133.,   258.,    69.,  1104.,   373.,   367.,   365.],\n",
       "       [ 4011.,  4316.,  1755.,  4992.,   228.,   240.,  3333.,   208.,\n",
       "          247.,  3319.,  4555.,   717.,  1483.,  4608.,  1387.,  3542.],\n",
       "       [  675.,   134.,   106.,   115.,   204.,   437.,  1035.,  1142.,\n",
       "          195.,  1115.,   569.,   140.,  1133.,   190.,   701.,  1016.],\n",
       "       [ 4455.,  2184.,  5109.,   221.,  3794.,   246.,  5214.,  4572.,\n",
       "         3571.,  3395.,  2054.,  5050.,   216.,   878.,   237.,  3880.],\n",
       "       [ 4185.,  5959.,   292.,  2293.,   118.,  5603.,  2167.,  5436.,\n",
       "         3079.,   167.,   243.,   256.,  5382.,   207.,  5258.,  4234.],\n",
       "       [   94.,   402.,   126.,  1293.,   801.,  1604.,  1481.,  1292.,\n",
       "         1428.,  1051.,   345.,  1510.,  1417.,   684.,   133.,   119.],\n",
       "       [  120.,  1921.,   115.,  3188.,    82.,   334.,   366.,  3467.,\n",
       "          103.,   863.,  3060.,  2123.,  3429.,  1974.,   557.,  3090.],\n",
       "       [   53.,   446.,   994.,    71.,   872.,   898.,    89.,   982.,\n",
       "          957.,   789.,  1040.,   100.,   133.,    82.,    84.,   791.],\n",
       "       [ 2297.,   733.,   575.,  2896.,  1470.,   169.,  2925.,  1901.,\n",
       "          195.,  2757.,  1627.,  1216.,   148.,  3037.,   392.,   221.],\n",
       "       [ 1343.,   483.,    67.,  1655.,    57.,    71.,  1562.,   447.,\n",
       "           58.,  1561.,   889.,  1741.,  1338.,    88.,  1363.,   560.],\n",
       "       [ 2387.,  3991.,  3394.,  6300.,  2281.,  6976.,   234.,   204.,\n",
       "         6244.,   854.,  1564.,   210.,   195.,  7007.,  3773.,  3623.],\n",
       "       [ 1523.,    77.,  1236.,  1277.,   112.,   171.,    70.,  1198.,\n",
       "           86.,  1664.,  1767.,    75.,   315.,   143.,  1450.,  1610.],\n",
       "       [  168.,  2683.,  1480.,   200.,  1666.,  1999.,  3418.,  2177.,\n",
       "          156.,   430.,  2959.,  3264.,  2989.,   136.,   110.,  3526.],\n",
       "       [ 8702.,  6973.,   203.,  4401.,  8135.,  7752.,  1704.,  8890.,\n",
       "          182.,  9315.,   255.,   229.,  6539.,   647.,  6431.,  6178.],\n",
       "       [ 2290.,   157.,  2759.,  3771.,  4112.,  2063.,   153.,  3538.,\n",
       "         3740.,   130.,  3474.,  1013.,   180.,  2164.,   170.,   189.],\n",
       "       [  525.,  1263.,   146.,   954.,   188.,   232.,  1019.,   918.,\n",
       "          268.,   172.,  1196.,  1091.,  1128.,   234.,   650.,   420.]])"
      ]
     },
     "execution_count": 21,
     "metadata": {},
     "output_type": "execute_result"
    }
   ],
   "source": [
    "import numpy as np\n",
    "#Puzzle input\n",
    "\n",
    "# import input data as a 2-d array, from tab-delimited text\n",
    "my_input = np.loadtxt('Day2input.txt',delimiter=\"\\t\")\n",
    "my_input"
   ]
  },
  {
   "cell_type": "code",
   "execution_count": 18,
   "metadata": {
    "collapsed": false
   },
   "outputs": [
    {
     "data": {
      "text/plain": [
       "54426.0"
      ]
     },
     "execution_count": 18,
     "metadata": {},
     "output_type": "execute_result"
    }
   ],
   "source": [
    "#use list comprehension to get the difference of each row, \n",
    "#and sum the resulting output of the list comprehension\n",
    "\n",
    "sum(np.array([max(x)-min(x) for x in my_input]))\n",
    "\n",
    "# this is the answer to Part One"
   ]
  },
  {
   "cell_type": "markdown",
   "metadata": {
    "collapsed": true
   },
   "source": [
    "Part Two\n",
    "\n",
    "\"Great work; looks like we're on the right track after all. Here's a star for your effort.\" However, the program seems a little worried. Can programs be worried?\n",
    "\n",
    "\"Based on what we're seeing, it looks like all the User wanted is some information about the evenly divisible values in the spreadsheet. Unfortunately, none of us are equipped for that kind of calculation - most of us specialize in bitwise operations.\"\n",
    "\n",
    "It sounds like the goal is to find the only two numbers in each row where one evenly divides the other - that is, where the result of the division operation is a whole number. They would like you to find those numbers on each line, divide them, and add up each line's result.\n",
    "\n",
    "For example, given the following spreadsheet:\n",
    "\n",
    "5 9 2 8\n",
    "\n",
    "9 4 7 3\n",
    "\n",
    "3 8 6 5\n",
    "\n",
    "In the first row, the only two numbers that evenly divide are 8 and 2; the result of this division is 4.\n",
    "In the second row, the two numbers are 9 and 3; the result is 3.\n",
    "In the third row, the result is 2.\n",
    "In this example, the sum of the results would be 4 + 3 + 2 = 9.\n",
    "\n",
    "What is the sum of each row's result in your puzzle input?\n",
    "\n",
    "\n"
   ]
  },
  {
   "cell_type": "code",
   "execution_count": 63,
   "metadata": {
    "collapsed": false
   },
   "outputs": [
    {
     "name": "stdout",
     "output_type": "stream",
     "text": [
      "[16.0, 24.0, 9.0, 22.0, 26.0, 12.0, 30.0, 14.0, 15.0, 22.0, 30.0, 23.0, 24.0, 38.0, 22.0, 6.0]\n"
     ]
    },
    {
     "data": {
      "text/plain": [
       "333.0"
      ]
     },
     "execution_count": 63,
     "metadata": {},
     "output_type": "execute_result"
    }
   ],
   "source": [
    "# create an empty array to hold the division results (quotients) of each row\n",
    "row_results = [0]* len(my_input)\n",
    "\n",
    "# iterate through each row in the input table/array\n",
    "for k in range(len(my_input)):\n",
    "    # for each row in the input table/array\n",
    "    \n",
    "    # sort the row in descending order\n",
    "    # (makes it simpler to iterate through the possible divisions in each row,\n",
    "    # since you only have to check greater numbers divided by smaller numbers)\n",
    "    the_row = sorted(my_input[k], reverse = True)\n",
    "    \n",
    "    # get the length of the row\n",
    "    row_length = len(the_row)\n",
    "\n",
    "    # iterate through each element in a row\n",
    "    for i in range(row_length):\n",
    "        \n",
    "        # check if a result has already been found for this row k\n",
    "        if row_results[k] != 0:\n",
    "            # if a result has already been found for row k, then break\n",
    "            # so you can move onto next row\n",
    "            break \n",
    "        \n",
    "        # if a result has not yet been found, \n",
    "        # create a row that does not have the dividend (number being divided)\n",
    "        the_row_without_i = the_row[0:i] + the_row[i+1:row_length]\n",
    "        \n",
    "        for j in range(len(the_row_without_i)):\n",
    "            \n",
    "            # check if the dividend evenly divides with the divisor \n",
    "            # (use modulus==0 to check)\n",
    "            # if so, then return quotient as the result for that row\n",
    "            # break out so you can go to next row\n",
    "            if the_row[i] % the_row_without_i[j] == 0:\n",
    "                row_results[k] = the_row[i]/the_row_without_i[j]\n",
    "                break \n",
    "\n",
    "print(row_results)\n",
    "sum(row_results)"
   ]
  },
  {
   "cell_type": "code",
   "execution_count": null,
   "metadata": {
    "collapsed": true
   },
   "outputs": [],
   "source": []
  }
 ],
 "metadata": {
  "kernelspec": {
   "display_name": "Python 3",
   "language": "python",
   "name": "python3"
  },
  "language_info": {
   "codemirror_mode": {
    "name": "ipython",
    "version": 3
   },
   "file_extension": ".py",
   "mimetype": "text/x-python",
   "name": "python",
   "nbconvert_exporter": "python",
   "pygments_lexer": "ipython3",
   "version": "3.6.0"
  }
 },
 "nbformat": 4,
 "nbformat_minor": 2
}
