{
 "cells": [
  {
   "cell_type": "markdown",
   "metadata": {},
   "source": [
    "http://adventofcode.com/2017/day/1\n",
    "\n",
    "--- Day 1: Inverse Captcha ---\n",
    "The night before Christmas, one of Santa's Elves calls you in a panic. \"The printer's broken! We can't print the Naughty or Nice List!\" By the time you make it to sub-basement 17, there are only a few minutes until midnight. \"We have a big problem,\" she says; \"there must be almost fifty bugs in this system, but nothing else can print The List. Stand in this square, quick! There's no time to explain; if you can convince them to pay you in stars, you'll be able to--\" She pulls a lever and the world goes blurry.\n",
    "\n",
    "When your eyes can focus again, everything seems a lot more pixelated than before. She must have sent you inside the computer! You check the system clock: 25 milliseconds until midnight. With that much time, you should be able to collect all fifty stars by December 25th.\n",
    "\n",
    "Collect stars by solving puzzles. Two puzzles will be made available on each day millisecond in the advent calendar; the second puzzle is unlocked when you complete the first. Each puzzle grants one star. Good luck!\n",
    "\n",
    "You're standing in a room with \"digitization quarantine\" written in LEDs along one wall. The only door is locked, but it includes a small interface. \"Restricted Area - Strictly No Digitized Users Allowed.\"\n",
    "\n",
    "It goes on to explain that you may only leave by solving a captcha to prove you're not a human. Apparently, you only get one millisecond to solve the captcha: too fast for a normal human, but it feels like hours to you.\n",
    "\n",
    "The captcha requires you to review a sequence of digits (your puzzle input) and find the sum of all digits that match the next digit in the list. The list is circular, so the digit after the last digit is the first digit in the list.\n",
    "\n",
    "For example:\n",
    "\n",
    "1122 produces a sum of 3 (1 + 2) because the first digit (1) matches the second digit and the third digit (2) matches the fourth digit.\n",
    "1111 produces 4 because each digit (all 1) matches the next.\n",
    "1234 produces 0 because no digit matches the next.\n",
    "91212129 produces 9 because the only digit that matches the next one is the last digit, 9.\n",
    "What is the solution to your captcha?\n",
    "\n",
    "--- Part Two ---\n",
    "You notice a progress bar that jumps to 50% completion. Apparently, the door isn't yet satisfied, but it did emit a star as encouragement. The instructions change:\n",
    "\n",
    "Now, instead of considering the next digit, it wants you to consider the digit halfway around the circular list. That is, if your list contains 10 items, only include a digit in your sum if the digit 10/2 = 5 steps forward matches it. Fortunately, your list has an even number of elements.\n",
    "\n",
    "For example:\n",
    "\n",
    "1212 produces 6: the list contains 4 items, and all four digits match the digit 2 items ahead.\n",
    "1221 produces 0, because every comparison is between a 1 and a 2.\n",
    "123425 produces 4, because both 2s match each other, but no other digit has a match.\n",
    "123123 produces 12.\n",
    "12131415 produces 4.\n",
    "What is the solution to your new captcha?"
   ]
  },
  {
   "cell_type": "code",
   "execution_count": 28,
   "metadata": {
    "collapsed": false
   },
   "outputs": [
    {
     "name": "stdout",
     "output_type": "stream",
     "text": [
      "[4, 9, 6, 6, 9, 1, 3, 4, 7, 1, 3, 3, 9, 5, 3, 3, 2, 5, 3, 2, 2, 6, 2, 2, 7, 1, 3, 4, 7, 5, 6, 8, 9, 8, 5, 9, 6, 6, 9, 8, 8, 7, 7, 7, 9, 3, 9, 5, 1, 5, 2, 7, 2, 7, 5, 4, 2, 8, 8, 6, 2, 6, 6, 6, 2, 4, 2, 8, 6, 9, 9, 1, 7, 9, 5, 8, 5, 8, 8, 8, 3, 9, 6, 7, 3, 1, 4, 6, 6, 7, 9, 7, 1, 6, 1, 4, 3, 5, 5, 6, 6, 6, 9, 2, 4, 4, 7, 7, 2, 7, 9, 1, 4, 9, 2, 1, 6, 8, 4, 2, 3, 8, 3, 2, 2, 9, 3, 2, 7, 3, 4, 6, 5, 7, 3, 1, 1, 9, 5, 7, 7, 6, 9, 4, 7, 9, 6, 8, 2, 6, 6, 3, 6, 8, 8, 8, 2, 8, 8, 4, 2, 8, 2, 5, 5, 5, 7, 3, 5, 6, 1, 6, 9, 5, 6, 8, 1, 2, 5, 3, 3, 6, 6, 6, 2, 7, 6, 8, 1, 8, 5, 5, 9, 9, 1, 2, 3, 9, 9, 9, 2, 8, 6, 6, 4, 4, 1, 6, 1, 1, 5, 9, 6, 7, 4, 5, 5, 1, 7, 9, 8, 2, 7, 9, 7, 7, 3, 6, 1, 5, 9, 5, 4, 4, 4, 7, 6, 8, 5, 6, 1, 9, 7, 9, 9, 9, 5, 5, 8, 1, 7, 9]\n",
      "1343\n"
     ]
    }
   ],
   "source": [
    "import numpy as np\n",
    "# for advent of code 2017 http://adventofcode.com/ \n",
    "# Day 1\n",
    "\n",
    "my_input = 9513446799636685297929646689682997114316733445451534532351778534251427172168183621874641711534917291674333857423799375512628489423332297538215855176592633692631974822259161766238385922277893623911332569448978771948316155868781496698895492971356383996932885518732997624253678694279666572149831616312497994856288871586777793459926952491318336997159553714584541897294117487641872629796825583725975692264125865827534677223541484795877371955124463989228886498682421539667224963783616245646832154384756663251487668681425754536722827563651327524674183443696227523828832466473538347472991998913211857749878157579176457395375632995576569388455888156465451723693767887681392547189273391948632726499868313747261828186732986628365773728583387184112323696592536446536231376615949825166773536471531487969852535699774113163667286537193767515119362865141925612849443983484245268194842563154567638354645735331855896155142741664246715666899824364722914296492444672653852387389477634257768229772399416521198625393426443499223611843766134883441223328256883497423324753229392393974622181429913535973327323952241674979677481518733692544535323219895684629719868384266425386835539719237716339198485163916562434854579365958111931354576991558771236977242668756782139961638347251644828724786827751748399123668854393894787851872256667336215726674348886747128237416273154988619267824361227888751562445622387695218161341884756795223464751862965655559143779425283154533252573949165492138175581615176611845489857169132936848668646319955661492488428427435269169173654812114842568381636982389224236455633316898178163297452453296667661849622174541778669494388167451186352488555379581934999276412919598411422973399319799937518713422398874326665375216437246445791623283898584648278989674418242112957668397484671119761553847275799873495363759266296477844157237423239163559391553961176475377151369399646747881452252547741718734949967752564774161341784833521492494243662658471121369649641815562327698395293573991648351369767162642763475561544795982183714447737149239846151871434656618825566387329765118727515699213962477996399781652131918996434125559698427945714572488376342126989157872118279163127742349\n",
    "\n",
    "seq = [int(d) for d in str(my_input)] #list comprehension to turn input (number) into list of digits (by using pythin str function)\n",
    "#print(seq)\n",
    "nums_to_sum = []\n",
    "for i in range(len(seq)):\n",
    "  #print(\"i is {}\".format(i))\n",
    "  #print(\"seq[i] is {}\".format(seq[i]))\n",
    "  if i + 1 == len(seq):\n",
    "    if seq[i] == seq[0]:\n",
    "      nums_to_sum.append(seq[i])\n",
    "      \n",
    "  elif seq[i] == seq[i+1]:\n",
    "    nums_to_sum.append(seq[i])\n",
    "\n",
    "print(nums_to_sum)\n",
    "print(sum(nums_to_sum))\n",
    "\n"
   ]
  },
  {
   "cell_type": "code",
   "execution_count": 47,
   "metadata": {
    "collapsed": false
   },
   "outputs": [
    {
     "name": "stdout",
     "output_type": "stream",
     "text": [
      "[18, 6, 8, 6, 2, 10, 10, 14, 18, 8, 14, 12, 12, 16, 2, 12, 4, 14, 18, 2, 6, 8, 14, 10, 12, 14, 8, 2, 4, 8, 16, 16, 14, 8, 12, 14, 10, 2, 14, 18, 8, 2, 16, 18, 8, 8, 12, 8, 16, 14, 4, 14, 8, 16, 6, 6, 14, 18, 2, 18, 14, 18, 6, 12, 10, 4, 18, 14, 2, 12, 2, 18, 16, 14, 4, 14, 16, 8, 2, 4, 6, 12, 6, 6, 12, 2, 8, 6, 16, 14, 6, 2, 2, 8, 12, 8, 10, 12, 6, 16, 10, 12, 8, 18, 8, 12, 10, 16, 14, 2, 4, 6, 18, 18, 6, 6, 8, 8, 4, 18, 18, 2, 4, 18, 2, 14]\n"
     ]
    },
    {
     "data": {
      "text/plain": [
       "1274"
      ]
     },
     "execution_count": 47,
     "metadata": {},
     "output_type": "execute_result"
    }
   ],
   "source": [
    "# Part 2\n",
    "\n",
    "my_input = 9513446799636685297929646689682997114316733445451534532351778534251427172168183621874641711534917291674333857423799375512628489423332297538215855176592633692631974822259161766238385922277893623911332569448978771948316155868781496698895492971356383996932885518732997624253678694279666572149831616312497994856288871586777793459926952491318336997159553714584541897294117487641872629796825583725975692264125865827534677223541484795877371955124463989228886498682421539667224963783616245646832154384756663251487668681425754536722827563651327524674183443696227523828832466473538347472991998913211857749878157579176457395375632995576569388455888156465451723693767887681392547189273391948632726499868313747261828186732986628365773728583387184112323696592536446536231376615949825166773536471531487969852535699774113163667286537193767515119362865141925612849443983484245268194842563154567638354645735331855896155142741664246715666899824364722914296492444672653852387389477634257768229772399416521198625393426443499223611843766134883441223328256883497423324753229392393974622181429913535973327323952241674979677481518733692544535323219895684629719868384266425386835539719237716339198485163916562434854579365958111931354576991558771236977242668756782139961638347251644828724786827751748399123668854393894787851872256667336215726674348886747128237416273154988619267824361227888751562445622387695218161341884756795223464751862965655559143779425283154533252573949165492138175581615176611845489857169132936848668646319955661492488428427435269169173654812114842568381636982389224236455633316898178163297452453296667661849622174541778669494388167451186352488555379581934999276412919598411422973399319799937518713422398874326665375216437246445791623283898584648278989674418242112957668397484671119761553847275799873495363759266296477844157237423239163559391553961176475377151369399646747881452252547741718734949967752564774161341784833521492494243662658471121369649641815562327698395293573991648351369767162642763475561544795982183714447737149239846151871434656618825566387329765118727515699213962477996399781652131918996434125559698427945714572488376342126989157872118279163127742349\n",
    "\n",
    "seq = [int(d) for d in str(my_input)] #list comprehension to turn input (number) into list of digits (by using pythin str function)\n",
    "#print(seq)\n",
    "\n",
    "#split the seq in half into two sequences\n",
    "seq_A = seq[0:int(len(seq)/2)]\n",
    "seq_B = seq[int(len(seq)/2):]\n",
    "\n",
    "my_array = list(zip(seq_A,seq_B))\n",
    "my_array\n",
    "\n",
    "nums_to_sum = []\n",
    "for i,j in my_array:\n",
    "  if i == j:\n",
    "    nums_to_sum.append(i+j)\n",
    "      \n",
    "\n",
    "print(nums_to_sum)\n",
    "sum(nums_to_sum)\n",
    "\n"
   ]
  },
  {
   "cell_type": "code",
   "execution_count": 46,
   "metadata": {
    "collapsed": false
   },
   "outputs": [
    {
     "name": "stdout",
     "output_type": "stream",
     "text": [
      "[18, 6, 8, 6, 2, 10, 10, 14, 18, 8, 14, 12, 12, 16, 2, 12, 4, 14, 18, 2, 6, 8, 14, 10, 12, 14, 8, 2, 4, 8, 16, 16, 14, 8, 12, 14, 10, 2, 14, 18, 8, 2, 16, 18, 8, 8, 12, 8, 16, 14, 4, 14, 8, 16, 6, 6, 14, 18, 2, 18, 14, 18, 6, 12, 10, 4, 18, 14, 2, 12, 2, 18, 16, 14, 4, 14, 16, 8, 2, 4, 6, 12, 6, 6, 12, 2, 8, 6, 16, 14, 6, 2, 2, 8, 12, 8, 10, 12, 6, 16, 10, 12, 8, 18, 8, 12, 10, 16, 14, 2, 4, 6, 18, 18, 6, 6, 8, 8, 4, 18, 18, 2, 4, 18, 2, 14]\n"
     ]
    },
    {
     "data": {
      "text/plain": [
       "1274"
      ]
     },
     "execution_count": 46,
     "metadata": {},
     "output_type": "execute_result"
    }
   ],
   "source": [
    "#can do it with list comprehension\n",
    "nums_to_sum2 = [i+j for (i,j) in my_array if i==j]\n",
    "\n",
    "\n",
    "print(nums_to_sum2)\n",
    "sum(nums_to_sum2)"
   ]
  },
  {
   "cell_type": "code",
   "execution_count": 49,
   "metadata": {
    "collapsed": false
   },
   "outputs": [
    {
     "data": {
      "text/plain": [
       "1274"
      ]
     },
     "execution_count": 49,
     "metadata": {},
     "output_type": "execute_result"
    }
   ],
   "source": [
    "sum([i+j for (i,j) in my_array if i==j])"
   ]
  },
  {
   "cell_type": "code",
   "execution_count": null,
   "metadata": {
    "collapsed": true
   },
   "outputs": [],
   "source": []
  }
 ],
 "metadata": {
  "kernelspec": {
   "display_name": "Python 3",
   "language": "python",
   "name": "python3"
  },
  "language_info": {
   "codemirror_mode": {
    "name": "ipython",
    "version": 3
   },
   "file_extension": ".py",
   "mimetype": "text/x-python",
   "name": "python",
   "nbconvert_exporter": "python",
   "pygments_lexer": "ipython3",
   "version": "3.6.0"
  }
 },
 "nbformat": 4,
 "nbformat_minor": 2
}
