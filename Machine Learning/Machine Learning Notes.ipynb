{
 "cells": [
  {
   "cell_type": "markdown",
   "metadata": {},
   "source": [
    "## Introduction to Machine Learning"
   ]
  },
  {
   "cell_type": "markdown",
   "metadata": {},
   "source": [
    "### Book\n",
    "- http://www-bcf.usc.edu/~gareth/ISL/\n"
   ]
  },
  {
   "cell_type": "markdown",
   "metadata": {},
   "source": [
    "### What is Machine Learning\n",
    "- 3 Main types of algorithms\n",
    "    - Supervised Learning\n",
    "        - labelled data\n",
    "            - i.e., inputs along with corresponding actual outputs\n",
    "        - creating model that tries to predict label (output)\n",
    "        - ex: price of a house based on features, whether a person will be sick \n",
    "    - Unsupervised Learning\n",
    "        - unlabelled data (no \"right answer\")\n",
    "        - trying to group similar, or other tasks that do not require labels\n",
    "            - goal is to explore data, find structures or attributes that separate segments\n",
    "        - ex: customer segmentation, word/text maps, identifying outliers\n",
    "        - techniques\n",
    "            - self-organizing maps\n",
    "            - nearest neighbor mapping\n",
    "            - k-means clustering\n",
    "            - singular value decomposition\n",
    "    - Reinforcement Learning\n",
    "        - algorithm learns to perform an action from experience (and rewards/feedback)\n",
    "        - goal is to maximize rewards over a given amount of time\n",
    "        - ex: robotics, gaming, navigation\n",
    "\n",
    "### Basic Process\n",
    "1. Acquire data\n",
    "2. Clean data\n",
    "3. Split data\n",
    "    - test data\n",
    "    - building/training data\n",
    "4. Build and train model\n",
    "5. Test model\n",
    "6. Deploy model\n",
    " "
   ]
  },
  {
   "cell_type": "markdown",
   "metadata": {},
   "source": [
    "### Machine Learning with Python\n",
    "\n",
    "#### Scikit-Learn\n",
    "    - most popular machine learning package for python\n",
    "    - \"conda install scikit-learn\" or \"pip install scikit-learn\"\n",
    "    - Process for Supervised Learning\n",
    "        1. Import model (aka \"estimator\")\n",
    "            - general form: \"from sklearn.<family> import <Model>\"\n",
    "                - e.g.: \"from sklearn.linear_model import LinearRegression\"\n",
    "        2. Set estimator parameters\n",
    "            - use shift+tab in jupyer to check possible parameters\n",
    "            - can be set when instantiated; all have suitable default values\n",
    "            - e.g.: model = LinearRegression(normalize=True)\n",
    "        3. Train and build model - Fit model on some data\n",
    "            a. split data into testing and training data\n",
    "                - use train_test_split\n",
    "                    - \"from sklearn.cross_validation import train_test_split\"\n",
    "            b. train/fit model on training data\n",
    "                - model.fit(X_train, Y_train)\n",
    "        4. Test model on test features\n",
    "            - predictions = model.predict(X_test)\n",
    "            - evaluate model by comparing to the actual output values for the test features\n",
    "            - evaluation method depends on type of algorithm (e.g., regression, classification, clustering, etc)\n",
    "        5. \n",
    "            "
   ]
  },
  {
   "cell_type": "markdown",
   "metadata": {
    "collapsed": false
   },
   "source": [
    "Scikit-learn: Choosing the right estimator\n",
    "\n",
    "http://scikit-learn.org/stable/tutorial/machine_learning_map/index.html"
   ]
  },
  {
   "cell_type": "code",
   "execution_count": null,
   "metadata": {
    "collapsed": true
   },
   "outputs": [],
   "source": []
  }
 ],
 "metadata": {
  "kernelspec": {
   "display_name": "Python 3",
   "language": "python",
   "name": "python3"
  },
  "language_info": {
   "codemirror_mode": {
    "name": "ipython",
    "version": 3
   },
   "file_extension": ".py",
   "mimetype": "text/x-python",
   "name": "python",
   "nbconvert_exporter": "python",
   "pygments_lexer": "ipython3",
   "version": "3.6.0"
  }
 },
 "nbformat": 4,
 "nbformat_minor": 2
}
